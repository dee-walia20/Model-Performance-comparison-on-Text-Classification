{
 "cells": [
  {
   "cell_type": "code",
   "execution_count": 1,
   "metadata": {},
   "outputs": [],
   "source": [
    "import pandas as pd\n",
    "import numpy as np\n",
    "import matplotlib.pyplot as plt\n",
    "import seaborn as sns"
   ]
  },
  {
   "cell_type": "code",
   "execution_count": 2,
   "metadata": {},
   "outputs": [
    {
     "data": {
      "text/html": [
       "<div>\n",
       "<style scoped>\n",
       "    .dataframe tbody tr th:only-of-type {\n",
       "        vertical-align: middle;\n",
       "    }\n",
       "\n",
       "    .dataframe tbody tr th {\n",
       "        vertical-align: top;\n",
       "    }\n",
       "\n",
       "    .dataframe thead th {\n",
       "        text-align: right;\n",
       "    }\n",
       "</style>\n",
       "<table border=\"1\" class=\"dataframe\">\n",
       "  <thead>\n",
       "    <tr style=\"text-align: right;\">\n",
       "      <th></th>\n",
       "      <th>UserId</th>\n",
       "      <th>TweetId</th>\n",
       "      <th>Tweet</th>\n",
       "      <th>ADR_label</th>\n",
       "    </tr>\n",
       "  </thead>\n",
       "  <tbody>\n",
       "    <tr>\n",
       "      <th>0</th>\n",
       "      <td>10030778</td>\n",
       "      <td>413205</td>\n",
       "      <td>Intravenous azithromycin-induced ototoxicity.</td>\n",
       "      <td>1</td>\n",
       "    </tr>\n",
       "    <tr>\n",
       "      <th>1</th>\n",
       "      <td>10048291</td>\n",
       "      <td>528244</td>\n",
       "      <td>Immobilization, while Paget's bone disease was...</td>\n",
       "      <td>1</td>\n",
       "    </tr>\n",
       "    <tr>\n",
       "      <th>2</th>\n",
       "      <td>10048291</td>\n",
       "      <td>361834</td>\n",
       "      <td>Unaccountable severe hypercalcemia in a patien...</td>\n",
       "      <td>1</td>\n",
       "    </tr>\n",
       "    <tr>\n",
       "      <th>3</th>\n",
       "      <td>10082597</td>\n",
       "      <td>292240</td>\n",
       "      <td>METHODS: We report two cases of pseudoporphyri...</td>\n",
       "      <td>1</td>\n",
       "    </tr>\n",
       "    <tr>\n",
       "      <th>4</th>\n",
       "      <td>10082597</td>\n",
       "      <td>467101</td>\n",
       "      <td>METHODS: We report two cases of pseudoporphyri...</td>\n",
       "      <td>1</td>\n",
       "    </tr>\n",
       "  </tbody>\n",
       "</table>\n",
       "</div>"
      ],
      "text/plain": [
       "     UserId  TweetId                                              Tweet  \\\n",
       "0  10030778   413205      Intravenous azithromycin-induced ototoxicity.   \n",
       "1  10048291   528244  Immobilization, while Paget's bone disease was...   \n",
       "2  10048291   361834  Unaccountable severe hypercalcemia in a patien...   \n",
       "3  10082597   292240  METHODS: We report two cases of pseudoporphyri...   \n",
       "4  10082597   467101  METHODS: We report two cases of pseudoporphyri...   \n",
       "\n",
       "   ADR_label  \n",
       "0          1  \n",
       "1          1  \n",
       "2          1  \n",
       "3          1  \n",
       "4          1  "
      ]
     },
     "execution_count": 2,
     "metadata": {},
     "output_type": "execute_result"
    }
   ],
   "source": [
    "#import text data from csv file\n",
    "df=pd.read_csv(r'C:\\Users\\deewa\\Desktop\\Data Science Class\\Project and GCP\\Data.csv')\n",
    "df.head()"
   ]
  },
  {
   "cell_type": "code",
   "execution_count": 3,
   "metadata": {},
   "outputs": [],
   "source": [
    "pd.set_option('max_colwidth', -1)"
   ]
  },
  {
   "cell_type": "code",
   "execution_count": 4,
   "metadata": {},
   "outputs": [
    {
     "data": {
      "text/html": [
       "<div>\n",
       "<style scoped>\n",
       "    .dataframe tbody tr th:only-of-type {\n",
       "        vertical-align: middle;\n",
       "    }\n",
       "\n",
       "    .dataframe tbody tr th {\n",
       "        vertical-align: top;\n",
       "    }\n",
       "\n",
       "    .dataframe thead th {\n",
       "        text-align: right;\n",
       "    }\n",
       "</style>\n",
       "<table border=\"1\" class=\"dataframe\">\n",
       "  <thead>\n",
       "    <tr style=\"text-align: right;\">\n",
       "      <th></th>\n",
       "      <th>UserId</th>\n",
       "      <th>TweetId</th>\n",
       "      <th>Tweet</th>\n",
       "      <th>ADR_label</th>\n",
       "    </tr>\n",
       "  </thead>\n",
       "  <tbody>\n",
       "    <tr>\n",
       "      <th>0</th>\n",
       "      <td>10030778</td>\n",
       "      <td>413205</td>\n",
       "      <td>Intravenous azithromycin-induced ototoxicity.</td>\n",
       "      <td>1</td>\n",
       "    </tr>\n",
       "    <tr>\n",
       "      <th>1</th>\n",
       "      <td>10048291</td>\n",
       "      <td>528244</td>\n",
       "      <td>Immobilization, while Paget's bone disease was present, and perhaps enhanced activation of dihydrotachysterol by rifampicin, could have led to increased calcium-release into the circulation.</td>\n",
       "      <td>1</td>\n",
       "    </tr>\n",
       "    <tr>\n",
       "      <th>2</th>\n",
       "      <td>10048291</td>\n",
       "      <td>361834</td>\n",
       "      <td>Unaccountable severe hypercalcemia in a patient treated for hypoparathyroidism with dihydrotachysterol.</td>\n",
       "      <td>1</td>\n",
       "    </tr>\n",
       "    <tr>\n",
       "      <th>3</th>\n",
       "      <td>10082597</td>\n",
       "      <td>292240</td>\n",
       "      <td>METHODS: We report two cases of pseudoporphyria caused by naproxen and oxaprozin.</td>\n",
       "      <td>1</td>\n",
       "    </tr>\n",
       "    <tr>\n",
       "      <th>4</th>\n",
       "      <td>10082597</td>\n",
       "      <td>467101</td>\n",
       "      <td>METHODS: We report two cases of pseudoporphyria caused by naproxen and oxaprozin.</td>\n",
       "      <td>1</td>\n",
       "    </tr>\n",
       "    <tr>\n",
       "      <th>5</th>\n",
       "      <td>10082597</td>\n",
       "      <td>599105</td>\n",
       "      <td>Naproxen, the most common offender, has been associated with a dimorphic clinical pattern: a PCT-like presentation and one simulating erythropoietic protoporphyria in the pediatric population.</td>\n",
       "      <td>1</td>\n",
       "    </tr>\n",
       "    <tr>\n",
       "      <th>6</th>\n",
       "      <td>10082597</td>\n",
       "      <td>259287</td>\n",
       "      <td>RESULTS: A 44-year-old man taking naproxen for chronic low back pain and a 20-year-old woman on oxaprozin for rheumatoid arthritis presented with tense bullae and cutaneous fragility on the face and the back of the hands.</td>\n",
       "      <td>1</td>\n",
       "    </tr>\n",
       "    <tr>\n",
       "      <th>7</th>\n",
       "      <td>10082597</td>\n",
       "      <td>479710</td>\n",
       "      <td>RESULTS: A 44-year-old man taking naproxen for chronic low back pain and a 20-year-old woman on oxaprozin for rheumatoid arthritis presented with tense bullae and cutaneous fragility on the face and the back of the hands.</td>\n",
       "      <td>1</td>\n",
       "    </tr>\n",
       "    <tr>\n",
       "      <th>8</th>\n",
       "      <td>10082597</td>\n",
       "      <td>141130</td>\n",
       "      <td>RESULTS: A 44-year-old man taking naproxen for chronic low back pain and a 20-year-old woman on oxaprozin for rheumatoid arthritis presented with tense bullae and cutaneous fragility on the face and the back of the hands.</td>\n",
       "      <td>1</td>\n",
       "    </tr>\n",
       "    <tr>\n",
       "      <th>9</th>\n",
       "      <td>10082597</td>\n",
       "      <td>787933</td>\n",
       "      <td>RESULTS: A 44-year-old man taking naproxen for chronic low back pain and a 20-year-old woman on oxaprozin for rheumatoid arthritis presented with tense bullae and cutaneous fragility on the face and the back of the hands.</td>\n",
       "      <td>1</td>\n",
       "    </tr>\n",
       "  </tbody>\n",
       "</table>\n",
       "</div>"
      ],
      "text/plain": [
       "     UserId  TweetId  \\\n",
       "0  10030778  413205    \n",
       "1  10048291  528244    \n",
       "2  10048291  361834    \n",
       "3  10082597  292240    \n",
       "4  10082597  467101    \n",
       "5  10082597  599105    \n",
       "6  10082597  259287    \n",
       "7  10082597  479710    \n",
       "8  10082597  141130    \n",
       "9  10082597  787933    \n",
       "\n",
       "                                                                                                                                                                                                                           Tweet  \\\n",
       "0  Intravenous azithromycin-induced ototoxicity.                                                                                                                                                                                   \n",
       "1  Immobilization, while Paget's bone disease was present, and perhaps enhanced activation of dihydrotachysterol by rifampicin, could have led to increased calcium-release into the circulation.                                  \n",
       "2  Unaccountable severe hypercalcemia in a patient treated for hypoparathyroidism with dihydrotachysterol.                                                                                                                         \n",
       "3  METHODS: We report two cases of pseudoporphyria caused by naproxen and oxaprozin.                                                                                                                                               \n",
       "4  METHODS: We report two cases of pseudoporphyria caused by naproxen and oxaprozin.                                                                                                                                               \n",
       "5  Naproxen, the most common offender, has been associated with a dimorphic clinical pattern: a PCT-like presentation and one simulating erythropoietic protoporphyria in the pediatric population.                                \n",
       "6  RESULTS: A 44-year-old man taking naproxen for chronic low back pain and a 20-year-old woman on oxaprozin for rheumatoid arthritis presented with tense bullae and cutaneous fragility on the face and the back of the hands.   \n",
       "7  RESULTS: A 44-year-old man taking naproxen for chronic low back pain and a 20-year-old woman on oxaprozin for rheumatoid arthritis presented with tense bullae and cutaneous fragility on the face and the back of the hands.   \n",
       "8  RESULTS: A 44-year-old man taking naproxen for chronic low back pain and a 20-year-old woman on oxaprozin for rheumatoid arthritis presented with tense bullae and cutaneous fragility on the face and the back of the hands.   \n",
       "9  RESULTS: A 44-year-old man taking naproxen for chronic low back pain and a 20-year-old woman on oxaprozin for rheumatoid arthritis presented with tense bullae and cutaneous fragility on the face and the back of the hands.   \n",
       "\n",
       "   ADR_label  \n",
       "0  1          \n",
       "1  1          \n",
       "2  1          \n",
       "3  1          \n",
       "4  1          \n",
       "5  1          \n",
       "6  1          \n",
       "7  1          \n",
       "8  1          \n",
       "9  1          "
      ]
     },
     "execution_count": 4,
     "metadata": {},
     "output_type": "execute_result"
    }
   ],
   "source": [
    "df.head(10)"
   ]
  },
  {
   "cell_type": "code",
   "execution_count": 5,
   "metadata": {},
   "outputs": [
    {
     "data": {
      "text/plain": [
       "<matplotlib.axes._subplots.AxesSubplot at 0x2615ee92d08>"
      ]
     },
     "execution_count": 5,
     "metadata": {},
     "output_type": "execute_result"
    },
    {
     "data": {
      "image/png": "[encoded data removed]",
      "text/plain": [
       "<Figure size 432x288 with 1 Axes>"
      ]
     },
     "metadata": {
      "needs_background": "light"
     },
     "output_type": "display_data"
    }
   ],
   "source": [
    "sns.countplot(df.ADR_label)"
   ]
  },
  {
   "cell_type": "code",
   "execution_count": 6,
   "metadata": {},
   "outputs": [],
   "source": [
    "import nltk\n",
    "import string\n",
    "import re\n",
    "from nltk.stem import WordNetLemmatizer\n",
    "from nltk.corpus import wordnet"
   ]
  },
  {
   "cell_type": "code",
   "execution_count": 7,
   "metadata": {},
   "outputs": [],
   "source": [
    "lemmatizer=WordNetLemmatizer()"
   ]
  },
  {
   "cell_type": "code",
   "execution_count": 8,
   "metadata": {},
   "outputs": [],
   "source": [
    "def get_wordnet_pos(word):\n",
    "    tag=nltk.pos_tag([word])[0][1][0].upper()\n",
    "    tag_dict={'J':wordnet.ADJ,\n",
    "              'N':wordnet.NOUN,\n",
    "              'V':wordnet.VERB,\n",
    "              'R':wordnet.ADV\n",
    "             }\n",
    "    return tag_dict.get(tag,wordnet.NOUN)"
   ]
  },
  {
   "cell_type": "code",
   "execution_count": 9,
   "metadata": {},
   "outputs": [
    {
     "data": {
      "text/plain": [
       "'strip'"
      ]
     },
     "execution_count": 9,
     "metadata": {},
     "output_type": "execute_result"
    }
   ],
   "source": [
    "lemmatizer.lemmatize('striped', get_wordnet_pos('striped'))"
   ]
  },
  {
   "cell_type": "code",
   "execution_count": 10,
   "metadata": {},
   "outputs": [
    {
     "data": {
      "text/plain": [
       "'V'"
      ]
     },
     "execution_count": 10,
     "metadata": {},
     "output_type": "execute_result"
    }
   ],
   "source": [
    "nltk.pos_tag(['hanging'])[0][1][0]"
   ]
  },
  {
   "cell_type": "code",
   "execution_count": 11,
   "metadata": {},
   "outputs": [
    {
     "data": {
      "text/plain": [
       "[('desk', 'NN')]"
      ]
     },
     "execution_count": 11,
     "metadata": {},
     "output_type": "execute_result"
    }
   ],
   "source": [
    "nltk.pos_tag(['desk'])"
   ]
  },
  {
   "cell_type": "code",
   "execution_count": 12,
   "metadata": {},
   "outputs": [
    {
     "name": "stdout",
     "output_type": "stream",
     "text": [
      "179\n"
     ]
    }
   ],
   "source": [
    "stopwords=nltk.corpus.stopwords.words('english')\n",
    "print(len(stopwords))"
   ]
  },
  {
   "cell_type": "code",
   "execution_count": 13,
   "metadata": {},
   "outputs": [
    {
     "data": {
      "text/plain": [
       "'Intravenous azithromycin-induced ototoxicity.'"
      ]
     },
     "execution_count": 13,
     "metadata": {},
     "output_type": "execute_result"
    }
   ],
   "source": [
    "df.Tweet[0]"
   ]
  },
  {
   "cell_type": "code",
   "execution_count": 14,
   "metadata": {},
   "outputs": [],
   "source": [
    "def treat_text(text):\n",
    "    edited_text=re.sub('\\W',\" \",text) #replace any sumbol with whitespace\n",
    "    edited_text=re.sub(\"  \",\" \",edited_text) #replace double whitespace with single whitespace\n",
    "    edited_text=edited_text.split(\" \")\n",
    "    edited_text=\" \".join([char for char in edited_text if char!= \"\"]) #remove any empty string from text\n",
    "    edited_text=edited_text.lower() #lowercase\n",
    "    edited_text=re.sub('\\d+',\"\",edited_text)\n",
    "    edited_text=edited_text.split()\n",
    "    edited_text=\" \".join([lemmatizer.lemmatize(word, get_wordnet_pos(word)) \n",
    "                          for word in edited_text if word not in stopwords]) #apply lemmatization with POS tagging\n",
    "    return edited_text"
   ]
  },
  {
   "cell_type": "code",
   "execution_count": 15,
   "metadata": {},
   "outputs": [],
   "source": [
    "df['Treated_Tweet']=df.Tweet.apply(lambda x: treat_text(x))"
   ]
  },
  {
   "cell_type": "code",
   "execution_count": 16,
   "metadata": {},
   "outputs": [
    {
     "data": {
      "text/plain": [
       "'RESULTS: A 44-year-old man taking naproxen for chronic low back pain and a 20-year-old woman on oxaprozin for rheumatoid arthritis presented with tense bullae and cutaneous fragility on the face and the back of the hands.'"
      ]
     },
     "execution_count": 16,
     "metadata": {},
     "output_type": "execute_result"
    }
   ],
   "source": [
    "df.Tweet[7]"
   ]
  },
  {
   "cell_type": "code",
   "execution_count": 17,
   "metadata": {
    "scrolled": true
   },
   "outputs": [
    {
     "data": {
      "text/plain": [
       "'result year old man take naproxen chronic low back pain year old woman oxaprozin rheumatoid arthritis present tense bulla cutaneous fragility face back hand'"
      ]
     },
     "execution_count": 17,
     "metadata": {},
     "output_type": "execute_result"
    }
   ],
   "source": [
    "df['Treated_Tweet'][7]"
   ]
  },
  {
   "cell_type": "code",
   "execution_count": 18,
   "metadata": {
    "scrolled": true
   },
   "outputs": [
    {
     "data": {
      "text/html": [
       "<div>\n",
       "<style scoped>\n",
       "    .dataframe tbody tr th:only-of-type {\n",
       "        vertical-align: middle;\n",
       "    }\n",
       "\n",
       "    .dataframe tbody tr th {\n",
       "        vertical-align: top;\n",
       "    }\n",
       "\n",
       "    .dataframe thead th {\n",
       "        text-align: right;\n",
       "    }\n",
       "</style>\n",
       "<table border=\"1\" class=\"dataframe\">\n",
       "  <thead>\n",
       "    <tr style=\"text-align: right;\">\n",
       "      <th></th>\n",
       "      <th>UserId</th>\n",
       "      <th>TweetId</th>\n",
       "      <th>Tweet</th>\n",
       "      <th>ADR_label</th>\n",
       "      <th>Treated_Tweet</th>\n",
       "    </tr>\n",
       "  </thead>\n",
       "  <tbody>\n",
       "    <tr>\n",
       "      <th>0</th>\n",
       "      <td>10030778</td>\n",
       "      <td>413205</td>\n",
       "      <td>Intravenous azithromycin-induced ototoxicity.</td>\n",
       "      <td>1</td>\n",
       "      <td>intravenous azithromycin induced ototoxicity</td>\n",
       "    </tr>\n",
       "    <tr>\n",
       "      <th>1</th>\n",
       "      <td>10048291</td>\n",
       "      <td>528244</td>\n",
       "      <td>Immobilization, while Paget's bone disease was present, and perhaps enhanced activation of dihydrotachysterol by rifampicin, could have led to increased calcium-release into the circulation.</td>\n",
       "      <td>1</td>\n",
       "      <td>immobilization paget bone disease present perhaps enhance activation dihydrotachysterol rifampicin could lead increase calcium release circulation</td>\n",
       "    </tr>\n",
       "    <tr>\n",
       "      <th>2</th>\n",
       "      <td>10048291</td>\n",
       "      <td>361834</td>\n",
       "      <td>Unaccountable severe hypercalcemia in a patient treated for hypoparathyroidism with dihydrotachysterol.</td>\n",
       "      <td>1</td>\n",
       "      <td>unaccountable severe hypercalcemia patient treat hypoparathyroidism dihydrotachysterol</td>\n",
       "    </tr>\n",
       "    <tr>\n",
       "      <th>3</th>\n",
       "      <td>10082597</td>\n",
       "      <td>292240</td>\n",
       "      <td>METHODS: We report two cases of pseudoporphyria caused by naproxen and oxaprozin.</td>\n",
       "      <td>1</td>\n",
       "      <td>method report two case pseudoporphyria cause naproxen oxaprozin</td>\n",
       "    </tr>\n",
       "    <tr>\n",
       "      <th>4</th>\n",
       "      <td>10082597</td>\n",
       "      <td>467101</td>\n",
       "      <td>METHODS: We report two cases of pseudoporphyria caused by naproxen and oxaprozin.</td>\n",
       "      <td>1</td>\n",
       "      <td>method report two case pseudoporphyria cause naproxen oxaprozin</td>\n",
       "    </tr>\n",
       "    <tr>\n",
       "      <th>5</th>\n",
       "      <td>10082597</td>\n",
       "      <td>599105</td>\n",
       "      <td>Naproxen, the most common offender, has been associated with a dimorphic clinical pattern: a PCT-like presentation and one simulating erythropoietic protoporphyria in the pediatric population.</td>\n",
       "      <td>1</td>\n",
       "      <td>naproxen common offender associate dimorphic clinical pattern pct like presentation one simulate erythropoietic protoporphyria pediatric population</td>\n",
       "    </tr>\n",
       "    <tr>\n",
       "      <th>6</th>\n",
       "      <td>10082597</td>\n",
       "      <td>259287</td>\n",
       "      <td>RESULTS: A 44-year-old man taking naproxen for chronic low back pain and a 20-year-old woman on oxaprozin for rheumatoid arthritis presented with tense bullae and cutaneous fragility on the face and the back of the hands.</td>\n",
       "      <td>1</td>\n",
       "      <td>result year old man take naproxen chronic low back pain year old woman oxaprozin rheumatoid arthritis present tense bulla cutaneous fragility face back hand</td>\n",
       "    </tr>\n",
       "    <tr>\n",
       "      <th>7</th>\n",
       "      <td>10082597</td>\n",
       "      <td>479710</td>\n",
       "      <td>RESULTS: A 44-year-old man taking naproxen for chronic low back pain and a 20-year-old woman on oxaprozin for rheumatoid arthritis presented with tense bullae and cutaneous fragility on the face and the back of the hands.</td>\n",
       "      <td>1</td>\n",
       "      <td>result year old man take naproxen chronic low back pain year old woman oxaprozin rheumatoid arthritis present tense bulla cutaneous fragility face back hand</td>\n",
       "    </tr>\n",
       "    <tr>\n",
       "      <th>8</th>\n",
       "      <td>10082597</td>\n",
       "      <td>141130</td>\n",
       "      <td>RESULTS: A 44-year-old man taking naproxen for chronic low back pain and a 20-year-old woman on oxaprozin for rheumatoid arthritis presented with tense bullae and cutaneous fragility on the face and the back of the hands.</td>\n",
       "      <td>1</td>\n",
       "      <td>result year old man take naproxen chronic low back pain year old woman oxaprozin rheumatoid arthritis present tense bulla cutaneous fragility face back hand</td>\n",
       "    </tr>\n",
       "    <tr>\n",
       "      <th>9</th>\n",
       "      <td>10082597</td>\n",
       "      <td>787933</td>\n",
       "      <td>RESULTS: A 44-year-old man taking naproxen for chronic low back pain and a 20-year-old woman on oxaprozin for rheumatoid arthritis presented with tense bullae and cutaneous fragility on the face and the back of the hands.</td>\n",
       "      <td>1</td>\n",
       "      <td>result year old man take naproxen chronic low back pain year old woman oxaprozin rheumatoid arthritis present tense bulla cutaneous fragility face back hand</td>\n",
       "    </tr>\n",
       "  </tbody>\n",
       "</table>\n",
       "</div>"
      ],
      "text/plain": [
       "     UserId  TweetId  \\\n",
       "0  10030778  413205    \n",
       "1  10048291  528244    \n",
       "2  10048291  361834    \n",
       "3  10082597  292240    \n",
       "4  10082597  467101    \n",
       "5  10082597  599105    \n",
       "6  10082597  259287    \n",
       "7  10082597  479710    \n",
       "8  10082597  141130    \n",
       "9  10082597  787933    \n",
       "\n",
       "                                                                                                                                                                                                                           Tweet  \\\n",
       "0  Intravenous azithromycin-induced ototoxicity.                                                                                                                                                                                   \n",
       "1  Immobilization, while Paget's bone disease was present, and perhaps enhanced activation of dihydrotachysterol by rifampicin, could have led to increased calcium-release into the circulation.                                  \n",
       "2  Unaccountable severe hypercalcemia in a patient treated for hypoparathyroidism with dihydrotachysterol.                                                                                                                         \n",
       "3  METHODS: We report two cases of pseudoporphyria caused by naproxen and oxaprozin.                                                                                                                                               \n",
       "4  METHODS: We report two cases of pseudoporphyria caused by naproxen and oxaprozin.                                                                                                                                               \n",
       "5  Naproxen, the most common offender, has been associated with a dimorphic clinical pattern: a PCT-like presentation and one simulating erythropoietic protoporphyria in the pediatric population.                                \n",
       "6  RESULTS: A 44-year-old man taking naproxen for chronic low back pain and a 20-year-old woman on oxaprozin for rheumatoid arthritis presented with tense bullae and cutaneous fragility on the face and the back of the hands.   \n",
       "7  RESULTS: A 44-year-old man taking naproxen for chronic low back pain and a 20-year-old woman on oxaprozin for rheumatoid arthritis presented with tense bullae and cutaneous fragility on the face and the back of the hands.   \n",
       "8  RESULTS: A 44-year-old man taking naproxen for chronic low back pain and a 20-year-old woman on oxaprozin for rheumatoid arthritis presented with tense bullae and cutaneous fragility on the face and the back of the hands.   \n",
       "9  RESULTS: A 44-year-old man taking naproxen for chronic low back pain and a 20-year-old woman on oxaprozin for rheumatoid arthritis presented with tense bullae and cutaneous fragility on the face and the back of the hands.   \n",
       "\n",
       "   ADR_label  \\\n",
       "0  1           \n",
       "1  1           \n",
       "2  1           \n",
       "3  1           \n",
       "4  1           \n",
       "5  1           \n",
       "6  1           \n",
       "7  1           \n",
       "8  1           \n",
       "9  1           \n",
       "\n",
       "                                                                                                                                                  Treated_Tweet  \n",
       "0  intravenous azithromycin induced ototoxicity                                                                                                                  \n",
       "1  immobilization paget bone disease present perhaps enhance activation dihydrotachysterol rifampicin could lead increase calcium release circulation            \n",
       "2  unaccountable severe hypercalcemia patient treat hypoparathyroidism dihydrotachysterol                                                                        \n",
       "3  method report two case pseudoporphyria cause naproxen oxaprozin                                                                                               \n",
       "4  method report two case pseudoporphyria cause naproxen oxaprozin                                                                                               \n",
       "5  naproxen common offender associate dimorphic clinical pattern pct like presentation one simulate erythropoietic protoporphyria pediatric population           \n",
       "6  result year old man take naproxen chronic low back pain year old woman oxaprozin rheumatoid arthritis present tense bulla cutaneous fragility face back hand  \n",
       "7  result year old man take naproxen chronic low back pain year old woman oxaprozin rheumatoid arthritis present tense bulla cutaneous fragility face back hand  \n",
       "8  result year old man take naproxen chronic low back pain year old woman oxaprozin rheumatoid arthritis present tense bulla cutaneous fragility face back hand  \n",
       "9  result year old man take naproxen chronic low back pain year old woman oxaprozin rheumatoid arthritis present tense bulla cutaneous fragility face back hand  "
      ]
     },
     "execution_count": 18,
     "metadata": {},
     "output_type": "execute_result"
    }
   ],
   "source": [
    "df.head(10)"
   ]
  },
  {
   "cell_type": "code",
   "execution_count": 19,
   "metadata": {
    "scrolled": false
   },
   "outputs": [
    {
     "data": {
      "text/plain": [
       "patient      6700\n",
       "case         3804\n",
       "report       3129\n",
       "treatment    2975\n",
       "therapy      2485\n",
       "year         1987\n",
       "developed    1751\n",
       "use          1645\n",
       "drug         1514\n",
       "induced      1485\n",
       "dtype: int64"
      ]
     },
     "execution_count": 19,
     "metadata": {},
     "output_type": "execute_result"
    }
   ],
   "source": [
    "# Most Frequent words in the dataset\n",
    "df.Treated_Tweet.str.split(expand=True).stack().value_counts()[:10]"
   ]
  },
  {
   "cell_type": "code",
   "execution_count": 20,
   "metadata": {},
   "outputs": [],
   "source": [
    "freq_words=df.Treated_Tweet.str.split(expand=True).stack().value_counts()[:10]\n",
    "freq_words=list(freq_words.index)"
   ]
  },
  {
   "cell_type": "code",
   "execution_count": 21,
   "metadata": {},
   "outputs": [
    {
     "data": {
      "text/plain": [
       "recirculating       1\n",
       "extraarticular      1\n",
       "lectin              1\n",
       "disqualification    1\n",
       "hypopyon            1\n",
       "iran                1\n",
       "impinge             1\n",
       "nimustine           1\n",
       "mand                1\n",
       "dihydroxy           1\n",
       "eligible            1\n",
       "immunoreactivity    1\n",
       "gaussian            1\n",
       "lactosamine         1\n",
       "allot               1\n",
       "glycopeptide        1\n",
       "inhabitant          1\n",
       "nci                 1\n",
       "nonsmoker           1\n",
       "corneum             1\n",
       "dtype: int64"
      ]
     },
     "execution_count": 21,
     "metadata": {},
     "output_type": "execute_result"
    }
   ],
   "source": [
    "df.Treated_Tweet.str.split(expand=True).stack().value_counts()[-20:]"
   ]
  },
  {
   "cell_type": "code",
   "execution_count": 22,
   "metadata": {},
   "outputs": [],
   "source": [
    "# Least Frequent words in the dataset\n",
    "rare_words=df.Treated_Tweet.str.split(expand=True).stack().value_counts()\n",
    "rare_words=list(rare_words.loc[lambda x: x==1].index)"
   ]
  },
  {
   "cell_type": "code",
   "execution_count": 23,
   "metadata": {},
   "outputs": [],
   "source": [
    "def remove_noise_words(text):\n",
    "    edited_text=text.split()\n",
    "    edited_text=[word for word in edited_text if word not in freq_words]\n",
    "    edited_text=[word for word in edited_text if word not in rare_words]\n",
    "    edited_text=\" \".join(edited_text)\n",
    "    return edited_text"
   ]
  },
  {
   "cell_type": "code",
   "execution_count": 24,
   "metadata": {},
   "outputs": [],
   "source": [
    "df['Final_Treated_words']=df.Treated_Tweet.apply(lambda x: remove_noise_words(x))"
   ]
  },
  {
   "cell_type": "code",
   "execution_count": 25,
   "metadata": {
    "scrolled": true
   },
   "outputs": [
    {
     "data": {
      "text/html": [
       "<div>\n",
       "<style scoped>\n",
       "    .dataframe tbody tr th:only-of-type {\n",
       "        vertical-align: middle;\n",
       "    }\n",
       "\n",
       "    .dataframe tbody tr th {\n",
       "        vertical-align: top;\n",
       "    }\n",
       "\n",
       "    .dataframe thead th {\n",
       "        text-align: right;\n",
       "    }\n",
       "</style>\n",
       "<table border=\"1\" class=\"dataframe\">\n",
       "  <thead>\n",
       "    <tr style=\"text-align: right;\">\n",
       "      <th></th>\n",
       "      <th>UserId</th>\n",
       "      <th>TweetId</th>\n",
       "      <th>Tweet</th>\n",
       "      <th>ADR_label</th>\n",
       "      <th>Treated_Tweet</th>\n",
       "      <th>Final_Treated_words</th>\n",
       "    </tr>\n",
       "  </thead>\n",
       "  <tbody>\n",
       "    <tr>\n",
       "      <th>0</th>\n",
       "      <td>10030778</td>\n",
       "      <td>413205</td>\n",
       "      <td>Intravenous azithromycin-induced ototoxicity.</td>\n",
       "      <td>1</td>\n",
       "      <td>intravenous azithromycin induced ototoxicity</td>\n",
       "      <td>intravenous azithromycin ototoxicity</td>\n",
       "    </tr>\n",
       "    <tr>\n",
       "      <th>1</th>\n",
       "      <td>10048291</td>\n",
       "      <td>528244</td>\n",
       "      <td>Immobilization, while Paget's bone disease was present, and perhaps enhanced activation of dihydrotachysterol by rifampicin, could have led to increased calcium-release into the circulation.</td>\n",
       "      <td>1</td>\n",
       "      <td>immobilization paget bone disease present perhaps enhance activation dihydrotachysterol rifampicin could lead increase calcium release circulation</td>\n",
       "      <td>immobilization paget bone disease present perhaps enhance activation dihydrotachysterol rifampicin could lead increase calcium release circulation</td>\n",
       "    </tr>\n",
       "    <tr>\n",
       "      <th>2</th>\n",
       "      <td>10048291</td>\n",
       "      <td>361834</td>\n",
       "      <td>Unaccountable severe hypercalcemia in a patient treated for hypoparathyroidism with dihydrotachysterol.</td>\n",
       "      <td>1</td>\n",
       "      <td>unaccountable severe hypercalcemia patient treat hypoparathyroidism dihydrotachysterol</td>\n",
       "      <td>severe hypercalcemia treat hypoparathyroidism dihydrotachysterol</td>\n",
       "    </tr>\n",
       "    <tr>\n",
       "      <th>3</th>\n",
       "      <td>10082597</td>\n",
       "      <td>292240</td>\n",
       "      <td>METHODS: We report two cases of pseudoporphyria caused by naproxen and oxaprozin.</td>\n",
       "      <td>1</td>\n",
       "      <td>method report two case pseudoporphyria cause naproxen oxaprozin</td>\n",
       "      <td>method two pseudoporphyria cause naproxen oxaprozin</td>\n",
       "    </tr>\n",
       "    <tr>\n",
       "      <th>4</th>\n",
       "      <td>10082597</td>\n",
       "      <td>467101</td>\n",
       "      <td>METHODS: We report two cases of pseudoporphyria caused by naproxen and oxaprozin.</td>\n",
       "      <td>1</td>\n",
       "      <td>method report two case pseudoporphyria cause naproxen oxaprozin</td>\n",
       "      <td>method two pseudoporphyria cause naproxen oxaprozin</td>\n",
       "    </tr>\n",
       "    <tr>\n",
       "      <th>5</th>\n",
       "      <td>10082597</td>\n",
       "      <td>599105</td>\n",
       "      <td>Naproxen, the most common offender, has been associated with a dimorphic clinical pattern: a PCT-like presentation and one simulating erythropoietic protoporphyria in the pediatric population.</td>\n",
       "      <td>1</td>\n",
       "      <td>naproxen common offender associate dimorphic clinical pattern pct like presentation one simulate erythropoietic protoporphyria pediatric population</td>\n",
       "      <td>naproxen common offender associate dimorphic clinical pattern pct like presentation one simulate erythropoietic pediatric population</td>\n",
       "    </tr>\n",
       "    <tr>\n",
       "      <th>6</th>\n",
       "      <td>10082597</td>\n",
       "      <td>259287</td>\n",
       "      <td>RESULTS: A 44-year-old man taking naproxen for chronic low back pain and a 20-year-old woman on oxaprozin for rheumatoid arthritis presented with tense bullae and cutaneous fragility on the face and the back of the hands.</td>\n",
       "      <td>1</td>\n",
       "      <td>result year old man take naproxen chronic low back pain year old woman oxaprozin rheumatoid arthritis present tense bulla cutaneous fragility face back hand</td>\n",
       "      <td>result old man take naproxen chronic low back pain old woman oxaprozin rheumatoid arthritis present tense bulla cutaneous fragility face back hand</td>\n",
       "    </tr>\n",
       "    <tr>\n",
       "      <th>7</th>\n",
       "      <td>10082597</td>\n",
       "      <td>479710</td>\n",
       "      <td>RESULTS: A 44-year-old man taking naproxen for chronic low back pain and a 20-year-old woman on oxaprozin for rheumatoid arthritis presented with tense bullae and cutaneous fragility on the face and the back of the hands.</td>\n",
       "      <td>1</td>\n",
       "      <td>result year old man take naproxen chronic low back pain year old woman oxaprozin rheumatoid arthritis present tense bulla cutaneous fragility face back hand</td>\n",
       "      <td>result old man take naproxen chronic low back pain old woman oxaprozin rheumatoid arthritis present tense bulla cutaneous fragility face back hand</td>\n",
       "    </tr>\n",
       "    <tr>\n",
       "      <th>8</th>\n",
       "      <td>10082597</td>\n",
       "      <td>141130</td>\n",
       "      <td>RESULTS: A 44-year-old man taking naproxen for chronic low back pain and a 20-year-old woman on oxaprozin for rheumatoid arthritis presented with tense bullae and cutaneous fragility on the face and the back of the hands.</td>\n",
       "      <td>1</td>\n",
       "      <td>result year old man take naproxen chronic low back pain year old woman oxaprozin rheumatoid arthritis present tense bulla cutaneous fragility face back hand</td>\n",
       "      <td>result old man take naproxen chronic low back pain old woman oxaprozin rheumatoid arthritis present tense bulla cutaneous fragility face back hand</td>\n",
       "    </tr>\n",
       "    <tr>\n",
       "      <th>9</th>\n",
       "      <td>10082597</td>\n",
       "      <td>787933</td>\n",
       "      <td>RESULTS: A 44-year-old man taking naproxen for chronic low back pain and a 20-year-old woman on oxaprozin for rheumatoid arthritis presented with tense bullae and cutaneous fragility on the face and the back of the hands.</td>\n",
       "      <td>1</td>\n",
       "      <td>result year old man take naproxen chronic low back pain year old woman oxaprozin rheumatoid arthritis present tense bulla cutaneous fragility face back hand</td>\n",
       "      <td>result old man take naproxen chronic low back pain old woman oxaprozin rheumatoid arthritis present tense bulla cutaneous fragility face back hand</td>\n",
       "    </tr>\n",
       "  </tbody>\n",
       "</table>\n",
       "</div>"
      ],
      "text/plain": [
       "     UserId  TweetId  \\\n",
       "0  10030778  413205    \n",
       "1  10048291  528244    \n",
       "2  10048291  361834    \n",
       "3  10082597  292240    \n",
       "4  10082597  467101    \n",
       "5  10082597  599105    \n",
       "6  10082597  259287    \n",
       "7  10082597  479710    \n",
       "8  10082597  141130    \n",
       "9  10082597  787933    \n",
       "\n",
       "                                                                                                                                                                                                                           Tweet  \\\n",
       "0  Intravenous azithromycin-induced ototoxicity.                                                                                                                                                                                   \n",
       "1  Immobilization, while Paget's bone disease was present, and perhaps enhanced activation of dihydrotachysterol by rifampicin, could have led to increased calcium-release into the circulation.                                  \n",
       "2  Unaccountable severe hypercalcemia in a patient treated for hypoparathyroidism with dihydrotachysterol.                                                                                                                         \n",
       "3  METHODS: We report two cases of pseudoporphyria caused by naproxen and oxaprozin.                                                                                                                                               \n",
       "4  METHODS: We report two cases of pseudoporphyria caused by naproxen and oxaprozin.                                                                                                                                               \n",
       "5  Naproxen, the most common offender, has been associated with a dimorphic clinical pattern: a PCT-like presentation and one simulating erythropoietic protoporphyria in the pediatric population.                                \n",
       "6  RESULTS: A 44-year-old man taking naproxen for chronic low back pain and a 20-year-old woman on oxaprozin for rheumatoid arthritis presented with tense bullae and cutaneous fragility on the face and the back of the hands.   \n",
       "7  RESULTS: A 44-year-old man taking naproxen for chronic low back pain and a 20-year-old woman on oxaprozin for rheumatoid arthritis presented with tense bullae and cutaneous fragility on the face and the back of the hands.   \n",
       "8  RESULTS: A 44-year-old man taking naproxen for chronic low back pain and a 20-year-old woman on oxaprozin for rheumatoid arthritis presented with tense bullae and cutaneous fragility on the face and the back of the hands.   \n",
       "9  RESULTS: A 44-year-old man taking naproxen for chronic low back pain and a 20-year-old woman on oxaprozin for rheumatoid arthritis presented with tense bullae and cutaneous fragility on the face and the back of the hands.   \n",
       "\n",
       "   ADR_label  \\\n",
       "0  1           \n",
       "1  1           \n",
       "2  1           \n",
       "3  1           \n",
       "4  1           \n",
       "5  1           \n",
       "6  1           \n",
       "7  1           \n",
       "8  1           \n",
       "9  1           \n",
       "\n",
       "                                                                                                                                                  Treated_Tweet  \\\n",
       "0  intravenous azithromycin induced ototoxicity                                                                                                                   \n",
       "1  immobilization paget bone disease present perhaps enhance activation dihydrotachysterol rifampicin could lead increase calcium release circulation             \n",
       "2  unaccountable severe hypercalcemia patient treat hypoparathyroidism dihydrotachysterol                                                                         \n",
       "3  method report two case pseudoporphyria cause naproxen oxaprozin                                                                                                \n",
       "4  method report two case pseudoporphyria cause naproxen oxaprozin                                                                                                \n",
       "5  naproxen common offender associate dimorphic clinical pattern pct like presentation one simulate erythropoietic protoporphyria pediatric population            \n",
       "6  result year old man take naproxen chronic low back pain year old woman oxaprozin rheumatoid arthritis present tense bulla cutaneous fragility face back hand   \n",
       "7  result year old man take naproxen chronic low back pain year old woman oxaprozin rheumatoid arthritis present tense bulla cutaneous fragility face back hand   \n",
       "8  result year old man take naproxen chronic low back pain year old woman oxaprozin rheumatoid arthritis present tense bulla cutaneous fragility face back hand   \n",
       "9  result year old man take naproxen chronic low back pain year old woman oxaprozin rheumatoid arthritis present tense bulla cutaneous fragility face back hand   \n",
       "\n",
       "                                                                                                                                  Final_Treated_words  \n",
       "0  intravenous azithromycin ototoxicity                                                                                                                \n",
       "1  immobilization paget bone disease present perhaps enhance activation dihydrotachysterol rifampicin could lead increase calcium release circulation  \n",
       "2  severe hypercalcemia treat hypoparathyroidism dihydrotachysterol                                                                                    \n",
       "3  method two pseudoporphyria cause naproxen oxaprozin                                                                                                 \n",
       "4  method two pseudoporphyria cause naproxen oxaprozin                                                                                                 \n",
       "5  naproxen common offender associate dimorphic clinical pattern pct like presentation one simulate erythropoietic pediatric population                \n",
       "6  result old man take naproxen chronic low back pain old woman oxaprozin rheumatoid arthritis present tense bulla cutaneous fragility face back hand  \n",
       "7  result old man take naproxen chronic low back pain old woman oxaprozin rheumatoid arthritis present tense bulla cutaneous fragility face back hand  \n",
       "8  result old man take naproxen chronic low back pain old woman oxaprozin rheumatoid arthritis present tense bulla cutaneous fragility face back hand  \n",
       "9  result old man take naproxen chronic low back pain old woman oxaprozin rheumatoid arthritis present tense bulla cutaneous fragility face back hand  "
      ]
     },
     "execution_count": 25,
     "metadata": {},
     "output_type": "execute_result"
    }
   ],
   "source": [
    "df.head(10)"
   ]
  },
  {
   "cell_type": "code",
   "execution_count": 26,
   "metadata": {},
   "outputs": [],
   "source": [
    "df['Word_count']=df.Tweet.apply(lambda x: len(str(x).split()))"
   ]
  },
  {
   "cell_type": "code",
   "execution_count": 27,
   "metadata": {},
   "outputs": [],
   "source": [
    "df['Character_count']=df.Tweet.str.len()"
   ]
  },
  {
   "cell_type": "code",
   "execution_count": 28,
   "metadata": {},
   "outputs": [],
   "source": [
    "def average_word_length(sentence):\n",
    "    words=sentence.split()\n",
    "    return sum(len (word) for word in words)/len(words)\n",
    "\n",
    "df['Average_word_length']=df.Tweet.apply(lambda x: average_word_length(x))"
   ]
  },
  {
   "cell_type": "code",
   "execution_count": 29,
   "metadata": {},
   "outputs": [],
   "source": [
    "df['Stopword_count']=df.Tweet.apply(lambda x: len([word for word in x.split() if word in stopwords]))"
   ]
  },
  {
   "cell_type": "code",
   "execution_count": 30,
   "metadata": {},
   "outputs": [],
   "source": [
    "df['Uppercase_words']=df.Tweet.apply(lambda x: len([word for word in x.split() if word.isupper()]))"
   ]
  },
  {
   "cell_type": "code",
   "execution_count": 31,
   "metadata": {},
   "outputs": [
    {
     "data": {
      "text/html": [
       "<div>\n",
       "<style scoped>\n",
       "    .dataframe tbody tr th:only-of-type {\n",
       "        vertical-align: middle;\n",
       "    }\n",
       "\n",
       "    .dataframe tbody tr th {\n",
       "        vertical-align: top;\n",
       "    }\n",
       "\n",
       "    .dataframe thead th {\n",
       "        text-align: right;\n",
       "    }\n",
       "</style>\n",
       "<table border=\"1\" class=\"dataframe\">\n",
       "  <thead>\n",
       "    <tr style=\"text-align: right;\">\n",
       "      <th></th>\n",
       "      <th>UserId</th>\n",
       "      <th>TweetId</th>\n",
       "      <th>Tweet</th>\n",
       "      <th>ADR_label</th>\n",
       "      <th>Treated_Tweet</th>\n",
       "      <th>Final_Treated_words</th>\n",
       "      <th>Word_count</th>\n",
       "      <th>Character_count</th>\n",
       "      <th>Average_word_length</th>\n",
       "      <th>Stopword_count</th>\n",
       "      <th>Uppercase_words</th>\n",
       "    </tr>\n",
       "  </thead>\n",
       "  <tbody>\n",
       "    <tr>\n",
       "      <th>0</th>\n",
       "      <td>10030778</td>\n",
       "      <td>413205</td>\n",
       "      <td>Intravenous azithromycin-induced ototoxicity.</td>\n",
       "      <td>1</td>\n",
       "      <td>intravenous azithromycin induced ototoxicity</td>\n",
       "      <td>intravenous azithromycin ototoxicity</td>\n",
       "      <td>3</td>\n",
       "      <td>45</td>\n",
       "      <td>14.333333</td>\n",
       "      <td>0</td>\n",
       "      <td>0</td>\n",
       "    </tr>\n",
       "    <tr>\n",
       "      <th>1</th>\n",
       "      <td>10048291</td>\n",
       "      <td>528244</td>\n",
       "      <td>Immobilization, while Paget's bone disease was present, and perhaps enhanced activation of dihydrotachysterol by rifampicin, could have led to increased calcium-release into the circulation.</td>\n",
       "      <td>1</td>\n",
       "      <td>immobilization paget bone disease present perhaps enhance activation dihydrotachysterol rifampicin could lead increase calcium release circulation</td>\n",
       "      <td>immobilization paget bone disease present perhaps enhance activation dihydrotachysterol rifampicin could lead increase calcium release circulation</td>\n",
       "      <td>24</td>\n",
       "      <td>190</td>\n",
       "      <td>6.958333</td>\n",
       "      <td>9</td>\n",
       "      <td>0</td>\n",
       "    </tr>\n",
       "    <tr>\n",
       "      <th>2</th>\n",
       "      <td>10048291</td>\n",
       "      <td>361834</td>\n",
       "      <td>Unaccountable severe hypercalcemia in a patient treated for hypoparathyroidism with dihydrotachysterol.</td>\n",
       "      <td>1</td>\n",
       "      <td>unaccountable severe hypercalcemia patient treat hypoparathyroidism dihydrotachysterol</td>\n",
       "      <td>severe hypercalcemia treat hypoparathyroidism dihydrotachysterol</td>\n",
       "      <td>11</td>\n",
       "      <td>103</td>\n",
       "      <td>8.454545</td>\n",
       "      <td>4</td>\n",
       "      <td>0</td>\n",
       "    </tr>\n",
       "    <tr>\n",
       "      <th>3</th>\n",
       "      <td>10082597</td>\n",
       "      <td>292240</td>\n",
       "      <td>METHODS: We report two cases of pseudoporphyria caused by naproxen and oxaprozin.</td>\n",
       "      <td>1</td>\n",
       "      <td>method report two case pseudoporphyria cause naproxen oxaprozin</td>\n",
       "      <td>method two pseudoporphyria cause naproxen oxaprozin</td>\n",
       "      <td>12</td>\n",
       "      <td>81</td>\n",
       "      <td>5.833333</td>\n",
       "      <td>3</td>\n",
       "      <td>1</td>\n",
       "    </tr>\n",
       "    <tr>\n",
       "      <th>4</th>\n",
       "      <td>10082597</td>\n",
       "      <td>467101</td>\n",
       "      <td>METHODS: We report two cases of pseudoporphyria caused by naproxen and oxaprozin.</td>\n",
       "      <td>1</td>\n",
       "      <td>method report two case pseudoporphyria cause naproxen oxaprozin</td>\n",
       "      <td>method two pseudoporphyria cause naproxen oxaprozin</td>\n",
       "      <td>12</td>\n",
       "      <td>81</td>\n",
       "      <td>5.833333</td>\n",
       "      <td>3</td>\n",
       "      <td>1</td>\n",
       "    </tr>\n",
       "  </tbody>\n",
       "</table>\n",
       "</div>"
      ],
      "text/plain": [
       "     UserId  TweetId  \\\n",
       "0  10030778  413205    \n",
       "1  10048291  528244    \n",
       "2  10048291  361834    \n",
       "3  10082597  292240    \n",
       "4  10082597  467101    \n",
       "\n",
       "                                                                                                                                                                                            Tweet  \\\n",
       "0  Intravenous azithromycin-induced ototoxicity.                                                                                                                                                    \n",
       "1  Immobilization, while Paget's bone disease was present, and perhaps enhanced activation of dihydrotachysterol by rifampicin, could have led to increased calcium-release into the circulation.   \n",
       "2  Unaccountable severe hypercalcemia in a patient treated for hypoparathyroidism with dihydrotachysterol.                                                                                          \n",
       "3  METHODS: We report two cases of pseudoporphyria caused by naproxen and oxaprozin.                                                                                                                \n",
       "4  METHODS: We report two cases of pseudoporphyria caused by naproxen and oxaprozin.                                                                                                                \n",
       "\n",
       "   ADR_label  \\\n",
       "0  1           \n",
       "1  1           \n",
       "2  1           \n",
       "3  1           \n",
       "4  1           \n",
       "\n",
       "                                                                                                                                        Treated_Tweet  \\\n",
       "0  intravenous azithromycin induced ototoxicity                                                                                                         \n",
       "1  immobilization paget bone disease present perhaps enhance activation dihydrotachysterol rifampicin could lead increase calcium release circulation   \n",
       "2  unaccountable severe hypercalcemia patient treat hypoparathyroidism dihydrotachysterol                                                               \n",
       "3  method report two case pseudoporphyria cause naproxen oxaprozin                                                                                      \n",
       "4  method report two case pseudoporphyria cause naproxen oxaprozin                                                                                      \n",
       "\n",
       "                                                                                                                                  Final_Treated_words  \\\n",
       "0  intravenous azithromycin ototoxicity                                                                                                                 \n",
       "1  immobilization paget bone disease present perhaps enhance activation dihydrotachysterol rifampicin could lead increase calcium release circulation   \n",
       "2  severe hypercalcemia treat hypoparathyroidism dihydrotachysterol                                                                                     \n",
       "3  method two pseudoporphyria cause naproxen oxaprozin                                                                                                  \n",
       "4  method two pseudoporphyria cause naproxen oxaprozin                                                                                                  \n",
       "\n",
       "   Word_count  Character_count  Average_word_length  Stopword_count  \\\n",
       "0  3           45               14.333333            0                \n",
       "1  24          190              6.958333             9                \n",
       "2  11          103              8.454545             4                \n",
       "3  12          81               5.833333             3                \n",
       "4  12          81               5.833333             3                \n",
       "\n",
       "   Uppercase_words  \n",
       "0  0                \n",
       "1  0                \n",
       "2  0                \n",
       "3  1                \n",
       "4  1                "
      ]
     },
     "execution_count": 31,
     "metadata": {},
     "output_type": "execute_result"
    }
   ],
   "source": [
    "df.head()"
   ]
  },
  {
   "cell_type": "code",
   "execution_count": 32,
   "metadata": {},
   "outputs": [
    {
     "data": {
      "text/plain": [
       "Index(['UserId', 'TweetId', 'Tweet', 'ADR_label', 'Treated_Tweet',\n",
       "       'Final_Treated_words', 'Word_count', 'Character_count',\n",
       "       'Average_word_length', 'Stopword_count', 'Uppercase_words'],\n",
       "      dtype='object')"
      ]
     },
     "execution_count": 32,
     "metadata": {},
     "output_type": "execute_result"
    }
   ],
   "source": [
    "df.columns"
   ]
  },
  {
   "cell_type": "code",
   "execution_count": 33,
   "metadata": {},
   "outputs": [],
   "source": [
    "#Apply Tf-idf Vectorizer on text column seperatly and then concat with numeric columns\n",
    "from sklearn.feature_extraction.text import TfidfVectorizer\n",
    "from sklearn.preprocessing import MinMaxScaler\n",
    "tf=TfidfVectorizer()\n",
    "scaler=MinMaxScaler()\n",
    "text_vector=tf.fit_transform(df.Final_Treated_words)\n",
    "X1=df.drop(columns=['UserId', 'TweetId', 'Tweet', 'ADR_label', 'Treated_Tweet','Final_Treated_words'], axis=1)\n",
    "X1=pd.DataFrame(scaler.fit_transform(X1))\n",
    "X2=pd.DataFrame(text_vector.toarray())\n",
    "X=pd.concat([X1,X2], axis=1)"
   ]
  },
  {
   "cell_type": "code",
   "execution_count": 34,
   "metadata": {},
   "outputs": [],
   "source": [
    "y=df.ADR_label"
   ]
  },
  {
   "cell_type": "code",
   "execution_count": 35,
   "metadata": {
    "scrolled": true
   },
   "outputs": [
    {
     "data": {
      "text/html": [
       "<div>\n",
       "<style scoped>\n",
       "    .dataframe tbody tr th:only-of-type {\n",
       "        vertical-align: middle;\n",
       "    }\n",
       "\n",
       "    .dataframe tbody tr th {\n",
       "        vertical-align: top;\n",
       "    }\n",
       "\n",
       "    .dataframe thead th {\n",
       "        text-align: right;\n",
       "    }\n",
       "</style>\n",
       "<table border=\"1\" class=\"dataframe\">\n",
       "  <thead>\n",
       "    <tr style=\"text-align: right;\">\n",
       "      <th></th>\n",
       "      <th>0</th>\n",
       "      <th>1</th>\n",
       "      <th>2</th>\n",
       "      <th>3</th>\n",
       "      <th>4</th>\n",
       "      <th>0</th>\n",
       "      <th>1</th>\n",
       "      <th>2</th>\n",
       "      <th>3</th>\n",
       "      <th>4</th>\n",
       "      <th>...</th>\n",
       "      <th>9702</th>\n",
       "      <th>9703</th>\n",
       "      <th>9704</th>\n",
       "      <th>9705</th>\n",
       "      <th>9706</th>\n",
       "      <th>9707</th>\n",
       "      <th>9708</th>\n",
       "      <th>9709</th>\n",
       "      <th>9710</th>\n",
       "      <th>9711</th>\n",
       "    </tr>\n",
       "  </thead>\n",
       "  <tbody>\n",
       "    <tr>\n",
       "      <th>0</th>\n",
       "      <td>0.014925</td>\n",
       "      <td>0.051701</td>\n",
       "      <td>0.673077</td>\n",
       "      <td>0.000000</td>\n",
       "      <td>0.000000</td>\n",
       "      <td>0.0</td>\n",
       "      <td>0.0</td>\n",
       "      <td>0.0</td>\n",
       "      <td>0.0</td>\n",
       "      <td>0.0</td>\n",
       "      <td>...</td>\n",
       "      <td>0.0</td>\n",
       "      <td>0.0</td>\n",
       "      <td>0.0</td>\n",
       "      <td>0.0</td>\n",
       "      <td>0.0</td>\n",
       "      <td>0.0</td>\n",
       "      <td>0.0</td>\n",
       "      <td>0.0</td>\n",
       "      <td>0.0</td>\n",
       "      <td>0.0</td>\n",
       "    </tr>\n",
       "    <tr>\n",
       "      <th>1</th>\n",
       "      <td>0.171642</td>\n",
       "      <td>0.248980</td>\n",
       "      <td>0.247596</td>\n",
       "      <td>0.236842</td>\n",
       "      <td>0.000000</td>\n",
       "      <td>0.0</td>\n",
       "      <td>0.0</td>\n",
       "      <td>0.0</td>\n",
       "      <td>0.0</td>\n",
       "      <td>0.0</td>\n",
       "      <td>...</td>\n",
       "      <td>0.0</td>\n",
       "      <td>0.0</td>\n",
       "      <td>0.0</td>\n",
       "      <td>0.0</td>\n",
       "      <td>0.0</td>\n",
       "      <td>0.0</td>\n",
       "      <td>0.0</td>\n",
       "      <td>0.0</td>\n",
       "      <td>0.0</td>\n",
       "      <td>0.0</td>\n",
       "    </tr>\n",
       "    <tr>\n",
       "      <th>2</th>\n",
       "      <td>0.074627</td>\n",
       "      <td>0.130612</td>\n",
       "      <td>0.333916</td>\n",
       "      <td>0.105263</td>\n",
       "      <td>0.000000</td>\n",
       "      <td>0.0</td>\n",
       "      <td>0.0</td>\n",
       "      <td>0.0</td>\n",
       "      <td>0.0</td>\n",
       "      <td>0.0</td>\n",
       "      <td>...</td>\n",
       "      <td>0.0</td>\n",
       "      <td>0.0</td>\n",
       "      <td>0.0</td>\n",
       "      <td>0.0</td>\n",
       "      <td>0.0</td>\n",
       "      <td>0.0</td>\n",
       "      <td>0.0</td>\n",
       "      <td>0.0</td>\n",
       "      <td>0.0</td>\n",
       "      <td>0.0</td>\n",
       "    </tr>\n",
       "    <tr>\n",
       "      <th>3</th>\n",
       "      <td>0.082090</td>\n",
       "      <td>0.100680</td>\n",
       "      <td>0.182692</td>\n",
       "      <td>0.078947</td>\n",
       "      <td>0.090909</td>\n",
       "      <td>0.0</td>\n",
       "      <td>0.0</td>\n",
       "      <td>0.0</td>\n",
       "      <td>0.0</td>\n",
       "      <td>0.0</td>\n",
       "      <td>...</td>\n",
       "      <td>0.0</td>\n",
       "      <td>0.0</td>\n",
       "      <td>0.0</td>\n",
       "      <td>0.0</td>\n",
       "      <td>0.0</td>\n",
       "      <td>0.0</td>\n",
       "      <td>0.0</td>\n",
       "      <td>0.0</td>\n",
       "      <td>0.0</td>\n",
       "      <td>0.0</td>\n",
       "    </tr>\n",
       "    <tr>\n",
       "      <th>4</th>\n",
       "      <td>0.082090</td>\n",
       "      <td>0.100680</td>\n",
       "      <td>0.182692</td>\n",
       "      <td>0.078947</td>\n",
       "      <td>0.090909</td>\n",
       "      <td>0.0</td>\n",
       "      <td>0.0</td>\n",
       "      <td>0.0</td>\n",
       "      <td>0.0</td>\n",
       "      <td>0.0</td>\n",
       "      <td>...</td>\n",
       "      <td>0.0</td>\n",
       "      <td>0.0</td>\n",
       "      <td>0.0</td>\n",
       "      <td>0.0</td>\n",
       "      <td>0.0</td>\n",
       "      <td>0.0</td>\n",
       "      <td>0.0</td>\n",
       "      <td>0.0</td>\n",
       "      <td>0.0</td>\n",
       "      <td>0.0</td>\n",
       "    </tr>\n",
       "  </tbody>\n",
       "</table>\n",
       "<p>5 rows × 9717 columns</p>\n",
       "</div>"
      ],
      "text/plain": [
       "          0         1         2         3         4    0    1    2    3    4  \\\n",
       "0  0.014925  0.051701  0.673077  0.000000  0.000000  0.0  0.0  0.0  0.0  0.0   \n",
       "1  0.171642  0.248980  0.247596  0.236842  0.000000  0.0  0.0  0.0  0.0  0.0   \n",
       "2  0.074627  0.130612  0.333916  0.105263  0.000000  0.0  0.0  0.0  0.0  0.0   \n",
       "3  0.082090  0.100680  0.182692  0.078947  0.090909  0.0  0.0  0.0  0.0  0.0   \n",
       "4  0.082090  0.100680  0.182692  0.078947  0.090909  0.0  0.0  0.0  0.0  0.0   \n",
       "\n",
       "   ...  9702  9703  9704  9705  9706  9707  9708  9709  9710  9711  \n",
       "0  ...  0.0   0.0   0.0   0.0   0.0   0.0   0.0   0.0   0.0   0.0   \n",
       "1  ...  0.0   0.0   0.0   0.0   0.0   0.0   0.0   0.0   0.0   0.0   \n",
       "2  ...  0.0   0.0   0.0   0.0   0.0   0.0   0.0   0.0   0.0   0.0   \n",
       "3  ...  0.0   0.0   0.0   0.0   0.0   0.0   0.0   0.0   0.0   0.0   \n",
       "4  ...  0.0   0.0   0.0   0.0   0.0   0.0   0.0   0.0   0.0   0.0   \n",
       "\n",
       "[5 rows x 9717 columns]"
      ]
     },
     "execution_count": 35,
     "metadata": {},
     "output_type": "execute_result"
    }
   ],
   "source": [
    "X.head()\n",
    "#pd.set_option('display.max_columns',1000)"
   ]
  },
  {
   "cell_type": "code",
   "execution_count": 36,
   "metadata": {},
   "outputs": [],
   "source": [
    "from sklearn.model_selection import train_test_split\n",
    "X_train, X_test, y_train, y_test=train_test_split(X, y, test_size=0.20, random_state=10)"
   ]
  },
  {
   "cell_type": "code",
   "execution_count": 37,
   "metadata": {},
   "outputs": [
    {
     "name": "stdout",
     "output_type": "stream",
     "text": [
      "(18812, 9717)\n",
      "(4704, 9717)\n",
      "(18812,)\n",
      "(4704,)\n"
     ]
    }
   ],
   "source": [
    "print(X_train.shape)\n",
    "print(X_test.shape)\n",
    "print(y_train.shape)\n",
    "print(y_test.shape)"
   ]
  },
  {
   "cell_type": "code",
   "execution_count": 38,
   "metadata": {},
   "outputs": [],
   "source": [
    "from sklearn.naive_bayes import MultinomialNB,ComplementNB\n",
    "from sklearn.linear_model import LogisticRegression, RidgeClassifier\n",
    "from sklearn.svm import SVC\n",
    "from sklearn.ensemble import RandomForestClassifier\n",
    "from sklearn.feature_extraction.text import TfidfVectorizer\n",
    "from sklearn.tree import DecisionTreeClassifier\n",
    "\n",
    "models=[]\n",
    "for model in [DecisionTreeClassifier(), MultinomialNB(), ComplementNB(), \n",
    "              LogisticRegression(solver='saga'), RidgeClassifier(solver='auto'), SVC(),RandomForestClassifier()]:\n",
    "    models.append(model)"
   ]
  },
  {
   "cell_type": "code",
   "execution_count": 39,
   "metadata": {},
   "outputs": [
    {
     "data": {
      "text/plain": [
       "'ComplementNB'"
      ]
     },
     "execution_count": 39,
     "metadata": {},
     "output_type": "execute_result"
    }
   ],
   "source": [
    "str(models[2]).split(\"(\")[0]"
   ]
  },
  {
   "cell_type": "code",
   "execution_count": null,
   "metadata": {},
   "outputs": [
    {
     "name": "stdout",
     "output_type": "stream",
     "text": [
      "DecisionTreeClassifier\n",
      "Model fit process completed\n",
      "\n",
      "MultinomialNB\n",
      "Model fit process completed\n",
      "\n",
      "ComplementNB\n",
      "Model fit process completed\n",
      "\n",
      "LogisticRegression\n",
      "Model fit process completed\n",
      "\n",
      "RidgeClassifier\n",
      "Model fit process completed\n",
      "\n"
     ]
    }
   ],
   "source": [
    "for i, model in enumerate(models):\n",
    "    model.fit(X_train, y_train)\n",
    "    print(str(models[i]).split(\"(\")[0])\n",
    "    print('Model fit process completed\\n')"
   ]
  },
  {
   "cell_type": "code",
   "execution_count": null,
   "metadata": {},
   "outputs": [],
   "source": [
    "from sklearn.metrics import classification_report, confusion_matrix\n",
    "for i, model in enumerate(models):\n",
    "    print(str(models[i]).split(\"(\")[0])\n",
    "    print(\"\\n\",classification_report(y_test, model.predict(X_test)))"
   ]
  },
  {
   "cell_type": "code",
   "execution_count": null,
   "metadata": {},
   "outputs": [],
   "source": []
  }
 ],
 "metadata": {
  "kernelspec": {
   "display_name": "Python 3",
   "language": "python",
   "name": "python3"
  },
  "language_info": {
   "codemirror_mode": {
    "name": "ipython",
    "version": 3
   },
   "file_extension": ".py",
   "mimetype": "text/x-python",
   "name": "python",
   "nbconvert_exporter": "python",
   "pygments_lexer": "ipython3",
   "version": "3.7.7"
  }
 },
 "nbformat": 4,
 "nbformat_minor": 2
}
