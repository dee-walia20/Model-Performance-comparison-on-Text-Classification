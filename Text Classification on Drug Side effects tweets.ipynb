{
 "cells": [
  {
   "cell_type": "code",
   "execution_count": 1,
   "metadata": {},
   "outputs": [],
   "source": [
    "import pandas as pd\n",
    "import numpy as np\n",
    "import matplotlib.pyplot as plt\n",
    "import seaborn as sns"
   ]
  },
  {
   "cell_type": "code",
   "execution_count": 2,
   "metadata": {},
   "outputs": [
    {
     "data": {
      "text/html": [
       "<div>\n",
       "<style scoped>\n",
       "    .dataframe tbody tr th:only-of-type {\n",
       "        vertical-align: middle;\n",
       "    }\n",
       "\n",
       "    .dataframe tbody tr th {\n",
       "        vertical-align: top;\n",
       "    }\n",
       "\n",
       "    .dataframe thead th {\n",
       "        text-align: right;\n",
       "    }\n",
       "</style>\n",
       "<table border=\"1\" class=\"dataframe\">\n",
       "  <thead>\n",
       "    <tr style=\"text-align: right;\">\n",
       "      <th></th>\n",
       "      <th>Tweet</th>\n",
       "      <th>ADR_label</th>\n",
       "    </tr>\n",
       "  </thead>\n",
       "  <tbody>\n",
       "    <tr>\n",
       "      <th>0</th>\n",
       "      <td>Intravenous azithromycin-induced ototoxicity.</td>\n",
       "      <td>1</td>\n",
       "    </tr>\n",
       "    <tr>\n",
       "      <th>1</th>\n",
       "      <td>Immobilization, while Paget's bone disease was...</td>\n",
       "      <td>1</td>\n",
       "    </tr>\n",
       "    <tr>\n",
       "      <th>2</th>\n",
       "      <td>Unaccountable severe hypercalcemia in a patien...</td>\n",
       "      <td>1</td>\n",
       "    </tr>\n",
       "    <tr>\n",
       "      <th>3</th>\n",
       "      <td>METHODS: We report two cases of pseudoporphyri...</td>\n",
       "      <td>1</td>\n",
       "    </tr>\n",
       "    <tr>\n",
       "      <th>4</th>\n",
       "      <td>METHODS: We report two cases of pseudoporphyri...</td>\n",
       "      <td>1</td>\n",
       "    </tr>\n",
       "  </tbody>\n",
       "</table>\n",
       "</div>"
      ],
      "text/plain": [
       "                                               Tweet  ADR_label\n",
       "0      Intravenous azithromycin-induced ototoxicity.          1\n",
       "1  Immobilization, while Paget's bone disease was...          1\n",
       "2  Unaccountable severe hypercalcemia in a patien...          1\n",
       "3  METHODS: We report two cases of pseudoporphyri...          1\n",
       "4  METHODS: We report two cases of pseudoporphyri...          1"
      ]
     },
     "execution_count": 2,
     "metadata": {},
     "output_type": "execute_result"
    }
   ],
   "source": [
    "#import text data from csv file\n",
    "df=pd.read_csv('Text_data.csv')\n",
    "df.head()"
   ]
  },
  {
   "cell_type": "code",
   "execution_count": 3,
   "metadata": {},
   "outputs": [
    {
     "data": {
      "text/plain": [
       "<matplotlib.axes._subplots.AxesSubplot at 0x1c97b09d4c8>"
      ]
     },
     "execution_count": 3,
     "metadata": {},
     "output_type": "execute_result"
    },
    {
     "data": {
      "image/png": "[encoded data removed]",
      "text/plain": [
       "<Figure size 432x288 with 1 Axes>"
      ]
     },
     "metadata": {
      "needs_background": "light"
     },
     "output_type": "display_data"
    }
   ],
   "source": [
    "sns.countplot(df.ADR_label) #Imbalanced Target"
   ]
  },
  {
   "cell_type": "code",
   "execution_count": 4,
   "metadata": {},
   "outputs": [],
   "source": [
    "import nltk\n",
    "import string\n",
    "import re\n",
    "from nltk.stem.snowball import SnowballStemmer"
   ]
  },
  {
   "cell_type": "code",
   "execution_count": 5,
   "metadata": {},
   "outputs": [],
   "source": [
    "stopwords=nltk.corpus.stopwords.words('english')\n",
    "snowball_stemmer=SnowballStemmer(language='english')"
   ]
  },
  {
   "cell_type": "code",
   "execution_count": 6,
   "metadata": {},
   "outputs": [],
   "source": [
    "def treat_text(text):\n",
    "    edited_text=re.sub('\\W',\" \",text) #replace any sumbol with whitespace\n",
    "    edited_text=re.sub(\"  \",\" \",edited_text) #replace double whitespace with single whitespace\n",
    "    edited_text=edited_text.split(\" \") #split the sentence into array of strings\n",
    "    edited_text=\" \".join([char for char in edited_text if char!= \"\"]) #remove any empty string from text\n",
    "    edited_text=edited_text.lower() #lowercase\n",
    "    edited_text=re.sub('\\d+',\"\",edited_text) #Removing numerics\n",
    "    edited_text=re.split('\\W+',edited_text) #spliting based on whitespace or whitespaces\n",
    "    edited_text=\" \".join([snowball_stemmer.stem(word) for word in edited_text if word not in stopwords]) #Snowball Stemmer\n",
    "    return edited_text"
   ]
  },
  {
   "cell_type": "code",
   "execution_count": 7,
   "metadata": {},
   "outputs": [],
   "source": [
    "df['Treated_Tweet']=df.Tweet.apply(lambda x: treat_text(x))"
   ]
  },
  {
   "cell_type": "code",
   "execution_count": 8,
   "metadata": {
    "scrolled": true
   },
   "outputs": [
    {
     "data": {
      "text/html": [
       "<div>\n",
       "<style scoped>\n",
       "    .dataframe tbody tr th:only-of-type {\n",
       "        vertical-align: middle;\n",
       "    }\n",
       "\n",
       "    .dataframe tbody tr th {\n",
       "        vertical-align: top;\n",
       "    }\n",
       "\n",
       "    .dataframe thead th {\n",
       "        text-align: right;\n",
       "    }\n",
       "</style>\n",
       "<table border=\"1\" class=\"dataframe\">\n",
       "  <thead>\n",
       "    <tr style=\"text-align: right;\">\n",
       "      <th></th>\n",
       "      <th>Tweet</th>\n",
       "      <th>ADR_label</th>\n",
       "      <th>Treated_Tweet</th>\n",
       "    </tr>\n",
       "  </thead>\n",
       "  <tbody>\n",
       "    <tr>\n",
       "      <th>0</th>\n",
       "      <td>Intravenous azithromycin-induced ototoxicity.</td>\n",
       "      <td>1</td>\n",
       "      <td>intraven azithromycin induc ototox</td>\n",
       "    </tr>\n",
       "    <tr>\n",
       "      <th>1</th>\n",
       "      <td>Immobilization, while Paget's bone disease was...</td>\n",
       "      <td>1</td>\n",
       "      <td>immobil paget bone diseas present perhap enhan...</td>\n",
       "    </tr>\n",
       "    <tr>\n",
       "      <th>2</th>\n",
       "      <td>Unaccountable severe hypercalcemia in a patien...</td>\n",
       "      <td>1</td>\n",
       "      <td>unaccount sever hypercalcemia patient treat hy...</td>\n",
       "    </tr>\n",
       "    <tr>\n",
       "      <th>3</th>\n",
       "      <td>METHODS: We report two cases of pseudoporphyri...</td>\n",
       "      <td>1</td>\n",
       "      <td>method report two case pseudoporphyria caus na...</td>\n",
       "    </tr>\n",
       "    <tr>\n",
       "      <th>4</th>\n",
       "      <td>METHODS: We report two cases of pseudoporphyri...</td>\n",
       "      <td>1</td>\n",
       "      <td>method report two case pseudoporphyria caus na...</td>\n",
       "    </tr>\n",
       "  </tbody>\n",
       "</table>\n",
       "</div>"
      ],
      "text/plain": [
       "                                               Tweet  ADR_label  \\\n",
       "0      Intravenous azithromycin-induced ototoxicity.          1   \n",
       "1  Immobilization, while Paget's bone disease was...          1   \n",
       "2  Unaccountable severe hypercalcemia in a patien...          1   \n",
       "3  METHODS: We report two cases of pseudoporphyri...          1   \n",
       "4  METHODS: We report two cases of pseudoporphyri...          1   \n",
       "\n",
       "                                       Treated_Tweet  \n",
       "0                 intraven azithromycin induc ototox  \n",
       "1  immobil paget bone diseas present perhap enhan...  \n",
       "2  unaccount sever hypercalcemia patient treat hy...  \n",
       "3  method report two case pseudoporphyria caus na...  \n",
       "4  method report two case pseudoporphyria caus na...  "
      ]
     },
     "execution_count": 8,
     "metadata": {},
     "output_type": "execute_result"
    }
   ],
   "source": [
    "df.head()"
   ]
  },
  {
   "cell_type": "code",
   "execution_count": 9,
   "metadata": {
    "scrolled": false
   },
   "outputs": [
    {
     "data": {
      "text/plain": [
       "patient      6700\n",
       "case         3804\n",
       "report       3155\n",
       "treatment    2975\n",
       "therapi      2485\n",
       "develop      2276\n",
       "year         1988\n",
       "use          1745\n",
       "associ       1665\n",
       "induc        1614\n",
       "dtype: int64"
      ]
     },
     "execution_count": 9,
     "metadata": {},
     "output_type": "execute_result"
    }
   ],
   "source": [
    "# Most Frequent words in the dataset\n",
    "df.Treated_Tweet.str.split(expand=True).stack().value_counts()[:10]"
   ]
  },
  {
   "cell_type": "code",
   "execution_count": 10,
   "metadata": {},
   "outputs": [],
   "source": [
    "freq_words=df.Treated_Tweet.str.split(expand=True).stack().value_counts()[:10]\n",
    "freq_words=list(freq_words.index)"
   ]
  },
  {
   "cell_type": "code",
   "execution_count": 11,
   "metadata": {},
   "outputs": [
    {
     "data": {
      "text/plain": [
       "pcna              1\n",
       "therapist         1\n",
       "esi               1\n",
       "iq                1\n",
       "endstag           1\n",
       "submiss           1\n",
       "kabi              1\n",
       "unsolv            1\n",
       "subcorn           1\n",
       "polyphaga         1\n",
       "cerbral           1\n",
       "muddi             1\n",
       "keratos           1\n",
       "esotropia         1\n",
       "unsuppress        1\n",
       "betalactam        1\n",
       "pneumaturia       1\n",
       "lifesci           1\n",
       "postcraniotomi    1\n",
       "xalatan           1\n",
       "dtype: int64"
      ]
     },
     "execution_count": 11,
     "metadata": {},
     "output_type": "execute_result"
    }
   ],
   "source": [
    "# Rare words in the dataset appearing only once in the whole dataset\n",
    "df.Treated_Tweet.str.split(expand=True).stack().value_counts()[-20:]"
   ]
  },
  {
   "cell_type": "code",
   "execution_count": 12,
   "metadata": {},
   "outputs": [],
   "source": [
    "rare_words=df.Treated_Tweet.str.split(expand=True).stack().value_counts()\n",
    "rare_words=list(rare_words.loc[lambda x: x==1].index)"
   ]
  },
  {
   "cell_type": "code",
   "execution_count": 13,
   "metadata": {},
   "outputs": [],
   "source": [
    "#Remove Frequent and Rare words\n",
    "def remove_noise_words(text):\n",
    "    edited_text=text.split()\n",
    "    edited_text=[word for word in edited_text if word not in freq_words]\n",
    "    edited_text=[word for word in edited_text if word not in rare_words]\n",
    "    edited_text=\" \".join(edited_text)\n",
    "    return edited_text"
   ]
  },
  {
   "cell_type": "code",
   "execution_count": 14,
   "metadata": {},
   "outputs": [],
   "source": [
    "df['Final_Treated_words']=df.Treated_Tweet.apply(lambda x: remove_noise_words(x))"
   ]
  },
  {
   "cell_type": "code",
   "execution_count": 15,
   "metadata": {},
   "outputs": [
    {
     "data": {
      "text/html": [
       "<div>\n",
       "<style scoped>\n",
       "    .dataframe tbody tr th:only-of-type {\n",
       "        vertical-align: middle;\n",
       "    }\n",
       "\n",
       "    .dataframe tbody tr th {\n",
       "        vertical-align: top;\n",
       "    }\n",
       "\n",
       "    .dataframe thead th {\n",
       "        text-align: right;\n",
       "    }\n",
       "</style>\n",
       "<table border=\"1\" class=\"dataframe\">\n",
       "  <thead>\n",
       "    <tr style=\"text-align: right;\">\n",
       "      <th></th>\n",
       "      <th>Tweet</th>\n",
       "      <th>ADR_label</th>\n",
       "      <th>Treated_Tweet</th>\n",
       "      <th>Final_Treated_words</th>\n",
       "    </tr>\n",
       "  </thead>\n",
       "  <tbody>\n",
       "    <tr>\n",
       "      <th>0</th>\n",
       "      <td>Intravenous azithromycin-induced ototoxicity.</td>\n",
       "      <td>1</td>\n",
       "      <td>intraven azithromycin induc ototox</td>\n",
       "      <td>intraven azithromycin ototox</td>\n",
       "    </tr>\n",
       "    <tr>\n",
       "      <th>1</th>\n",
       "      <td>Immobilization, while Paget's bone disease was...</td>\n",
       "      <td>1</td>\n",
       "      <td>immobil paget bone diseas present perhap enhan...</td>\n",
       "      <td>immobil paget bone diseas present perhap enhan...</td>\n",
       "    </tr>\n",
       "    <tr>\n",
       "      <th>2</th>\n",
       "      <td>Unaccountable severe hypercalcemia in a patien...</td>\n",
       "      <td>1</td>\n",
       "      <td>unaccount sever hypercalcemia patient treat hy...</td>\n",
       "      <td>sever hypercalcemia treat hypoparathyroid dihy...</td>\n",
       "    </tr>\n",
       "    <tr>\n",
       "      <th>3</th>\n",
       "      <td>METHODS: We report two cases of pseudoporphyri...</td>\n",
       "      <td>1</td>\n",
       "      <td>method report two case pseudoporphyria caus na...</td>\n",
       "      <td>method two pseudoporphyria caus naproxen oxapr...</td>\n",
       "    </tr>\n",
       "    <tr>\n",
       "      <th>4</th>\n",
       "      <td>METHODS: We report two cases of pseudoporphyri...</td>\n",
       "      <td>1</td>\n",
       "      <td>method report two case pseudoporphyria caus na...</td>\n",
       "      <td>method two pseudoporphyria caus naproxen oxapr...</td>\n",
       "    </tr>\n",
       "  </tbody>\n",
       "</table>\n",
       "</div>"
      ],
      "text/plain": [
       "                                               Tweet  ADR_label  \\\n",
       "0      Intravenous azithromycin-induced ototoxicity.          1   \n",
       "1  Immobilization, while Paget's bone disease was...          1   \n",
       "2  Unaccountable severe hypercalcemia in a patien...          1   \n",
       "3  METHODS: We report two cases of pseudoporphyri...          1   \n",
       "4  METHODS: We report two cases of pseudoporphyri...          1   \n",
       "\n",
       "                                       Treated_Tweet  \\\n",
       "0                 intraven azithromycin induc ototox   \n",
       "1  immobil paget bone diseas present perhap enhan...   \n",
       "2  unaccount sever hypercalcemia patient treat hy...   \n",
       "3  method report two case pseudoporphyria caus na...   \n",
       "4  method report two case pseudoporphyria caus na...   \n",
       "\n",
       "                                 Final_Treated_words  \n",
       "0                       intraven azithromycin ototox  \n",
       "1  immobil paget bone diseas present perhap enhan...  \n",
       "2  sever hypercalcemia treat hypoparathyroid dihy...  \n",
       "3  method two pseudoporphyria caus naproxen oxapr...  \n",
       "4  method two pseudoporphyria caus naproxen oxapr...  "
      ]
     },
     "execution_count": 15,
     "metadata": {},
     "output_type": "execute_result"
    }
   ],
   "source": [
    "df.head()"
   ]
  },
  {
   "cell_type": "code",
   "execution_count": 16,
   "metadata": {},
   "outputs": [],
   "source": [
    "X=df.Final_Treated_words\n",
    "y=df.ADR_label"
   ]
  },
  {
   "cell_type": "code",
   "execution_count": 17,
   "metadata": {},
   "outputs": [],
   "source": [
    "from sklearn.model_selection import train_test_split\n",
    "X_train, X_test, y_train, y_test=train_test_split(X, y, test_size=0.20, random_state=10)"
   ]
  },
  {
   "cell_type": "code",
   "execution_count": 18,
   "metadata": {},
   "outputs": [
    {
     "name": "stdout",
     "output_type": "stream",
     "text": [
      "(18812,)\n",
      "(4704,)\n",
      "(18812,)\n",
      "(4704,)\n"
     ]
    }
   ],
   "source": [
    "print(X_train.shape)\n",
    "print(X_test.shape)\n",
    "print(y_train.shape)\n",
    "print(y_test.shape)"
   ]
  },
  {
   "cell_type": "code",
   "execution_count": 19,
   "metadata": {},
   "outputs": [],
   "source": [
    "#Creating a list of Pipeline with well-known ML models\n",
    "from sklearn.pipeline import make_pipeline\n",
    "from sklearn.naive_bayes import MultinomialNB,ComplementNB\n",
    "from sklearn.linear_model import LogisticRegression, RidgeClassifier\n",
    "from sklearn.svm import SVC\n",
    "from sklearn.ensemble import RandomForestClassifier\n",
    "from sklearn.feature_extraction.text import CountVectorizer, TfidfVectorizer\n",
    "from sklearn.tree import DecisionTreeClassifier\n",
    "\n",
    "pipelines=[]\n",
    "for model in [DecisionTreeClassifier(), MultinomialNB(), ComplementNB(), \n",
    "              LogisticRegression(solver='saga'), RidgeClassifier(solver='auto'), SVC(),RandomForestClassifier()]:\n",
    "    pipeline=make_pipeline(TfidfVectorizer(), model)\n",
    "    pipelines.append(pipeline)"
   ]
  },
  {
   "cell_type": "code",
   "execution_count": 20,
   "metadata": {},
   "outputs": [],
   "source": [
    "#Training the model\n",
    "import time\n",
    "training_time=[]\n",
    "for pipeline in pipelines:\n",
    "    start=time.time()\n",
    "    pipeline.fit(X_train, y_train)\n",
    "    stop=time.time()\n",
    "    training_time.append(stop-start)"
   ]
  },
  {
   "cell_type": "code",
   "execution_count": 21,
   "metadata": {},
   "outputs": [
    {
     "name": "stdout",
     "output_type": "stream",
     "text": [
      "Classifiation Report\n",
      "\n",
      "*****************************************************\n",
      "\n",
      "               precision    recall  f1-score   support\n",
      "\n",
      "           0       0.88      0.86      0.87      3357\n",
      "           1       0.67      0.71      0.69      1347\n",
      "\n",
      "    accuracy                           0.81      4704\n",
      "   macro avg       0.77      0.78      0.78      4704\n",
      "weighted avg       0.82      0.81      0.82      4704\n",
      "\n",
      "\n",
      "               precision    recall  f1-score   support\n",
      "\n",
      "           0       0.84      0.96      0.90      3357\n",
      "           1       0.85      0.54      0.66      1347\n",
      "\n",
      "    accuracy                           0.84      4704\n",
      "   macro avg       0.85      0.75      0.78      4704\n",
      "weighted avg       0.84      0.84      0.83      4704\n",
      "\n",
      "\n",
      "               precision    recall  f1-score   support\n",
      "\n",
      "           0       0.92      0.81      0.86      3357\n",
      "           1       0.64      0.83      0.72      1347\n",
      "\n",
      "    accuracy                           0.82      4704\n",
      "   macro avg       0.78      0.82      0.79      4704\n",
      "weighted avg       0.84      0.82      0.82      4704\n",
      "\n",
      "\n",
      "               precision    recall  f1-score   support\n",
      "\n",
      "           0       0.85      0.95      0.90      3357\n",
      "           1       0.82      0.59      0.69      1347\n",
      "\n",
      "    accuracy                           0.85      4704\n",
      "   macro avg       0.84      0.77      0.79      4704\n",
      "weighted avg       0.84      0.85      0.84      4704\n",
      "\n",
      "\n",
      "               precision    recall  f1-score   support\n",
      "\n",
      "           0       0.90      0.93      0.92      3357\n",
      "           1       0.82      0.75      0.78      1347\n",
      "\n",
      "    accuracy                           0.88      4704\n",
      "   macro avg       0.86      0.84      0.85      4704\n",
      "weighted avg       0.88      0.88      0.88      4704\n",
      "\n",
      "\n",
      "               precision    recall  f1-score   support\n",
      "\n",
      "           0       0.89      0.97      0.93      3357\n",
      "           1       0.89      0.71      0.79      1347\n",
      "\n",
      "    accuracy                           0.89      4704\n",
      "   macro avg       0.89      0.84      0.86      4704\n",
      "weighted avg       0.89      0.89      0.89      4704\n",
      "\n",
      "\n",
      "               precision    recall  f1-score   support\n",
      "\n",
      "           0       0.87      0.97      0.92      3357\n",
      "           1       0.90      0.64      0.75      1347\n",
      "\n",
      "    accuracy                           0.88      4704\n",
      "   macro avg       0.88      0.81      0.83      4704\n",
      "weighted avg       0.88      0.88      0.87      4704\n",
      "\n"
     ]
    }
   ],
   "source": [
    "#Prediction from test dataset\n",
    "from sklearn.metrics import classification_report, confusion_matrix, f1_score, precision_score, recall_score\n",
    "model_name=[]\n",
    "precision_array=[]\n",
    "recall_array=[]\n",
    "f1_array=[]\n",
    "test_time=[]\n",
    "print(\"Classifiation Report\\n\")\n",
    "print(\"*****************************************************\")\n",
    "for i, pipeline in enumerate(pipelines):\n",
    "    start=time.time()\n",
    "    y_pred=pipeline.predict(X_test)\n",
    "    stop=time.time()\n",
    "    test_time.append(stop-start)\n",
    "    model_name.append(pipelines[i].steps[1][0].upper())\n",
    "    f1_array.append(round(f1_score(y_test, y_pred, average='weighted'),2))\n",
    "    precision_array.append(round(precision_score(y_test, y_pred, average='binary'),2))\n",
    "    recall_array.append(round(recall_score(y_test, y_pred, average='binary'),2))\n",
    "    print(\"\\n\",classification_report(y_test, y_pred))"
   ]
  },
  {
   "cell_type": "code",
   "execution_count": 22,
   "metadata": {},
   "outputs": [
    {
     "data": {
      "image/png": "[encoded data removed]",
      "text/plain": [
       "<Figure size 936x720 with 1 Axes>"
      ]
     },
     "metadata": {
      "needs_background": "light"
     },
     "output_type": "display_data"
    }
   ],
   "source": [
    "#Plotting the various performance metrix of all models\n",
    "training_time=np.array(training_time)/np.max(training_time)\n",
    "test_time=np.array(test_time)/np.max(test_time)\n",
    "score_df=pd.DataFrame({'F1 Score(Weighted)':f1_array,\n",
    "                     'Precision Score of Class 1':precision_array,\n",
    "                     'Recall of Class 1':recall_array,\n",
    "                      'Training Time': training_time,\n",
    "                      'Test Time':test_time}, index=model_name)\n",
    "\n",
    "f=plt.figure(figsize=(13,10))\n",
    "plt.title('Comparing Performance of various ML Models on Text Classification Dataset', color='black',\n",
    "         fontdict={'fontsize':23})\n",
    "score_df.plot(kind='barh', ax=f.gca(), cmap='gnuplot')\n",
    "plt.legend(loc='center left', bbox_to_anchor=(1.0, 0.5))\n",
    "plt.show()"
   ]
  }
 ],
 "metadata": {
  "kernelspec": {
   "display_name": "Python 3",
   "language": "python",
   "name": "python3"
  },
  "language_info": {
   "codemirror_mode": {
    "name": "ipython",
    "version": 3
   },
   "file_extension": ".py",
   "mimetype": "text/x-python",
   "name": "python",
   "nbconvert_exporter": "python",
   "pygments_lexer": "ipython3",
   "version": "3.7.5"
  }
 },
 "nbformat": 4,
 "nbformat_minor": 2
}
